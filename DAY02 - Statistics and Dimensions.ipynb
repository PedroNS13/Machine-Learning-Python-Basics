{
 "cells": [
  {
   "cell_type": "markdown",
   "id": "7f1a5360-5338-4d97-8b57-166a4cd589e2",
   "metadata": {},
   "source": [
    "# Enhancing Your NumPy Skills - Statistics, Conditionals, and Dimension Manipulation"
   ]
  },
  {
   "cell_type": "markdown",
   "id": "e763dab2-067c-410c-a3cb-c5c3bb325a83",
   "metadata": {},
   "source": [
    "## Introduction\n",
    "Having established the fundamentals of NumPy on Day 1, which included understanding the core structure of the ndarray, its shape and dtype attributes, and the principles of indexing and vectorized operations, one is now prepared to expand their skillset. On Day 2, functionalities are explored that enable the extraction of statistical insights from data, the efficient application of conditional logic, and crucially, the reshaping and combination of arrays to address the requirements of complex problems. These tools are considered indispensable for any tasks involving data analysis, machine learning, and numerical simulation."
   ]
  },
  {
   "cell_type": "markdown",
   "id": "5a0add36-280c-4260-a010-d82ee8109a9b",
   "metadata": {},
   "source": [
    "## 1. Essential Descriptive Statistics: np.mean and np.std\n",
    "One of NumPy's common applications in scientific computing involves its capability for rapid and efficient statistical calculations. The np.mean() and np.std() functions are prime examples, facilitating the computation of the mean and standard deviation for entire arrays or along specific axes."
   ]
  },
  {
   "cell_type": "markdown",
   "id": "01691875-eb9b-43d7-8148-c39345a68593",
   "metadata": {},
   "source": [
    "### 1.1. np.mean(): Calculating the Arithmetic Mean\n",
    "The np.mean() function computes the arithmetic mean of an array's elements. By default, it calculates the mean of all flattened elements, as if the array were a 1D vector. However, its true versatility lies in the axis argument, which allows the mean to be calculated along a specific dimension.\n",
    "\n",
    "#### Basic Syntax:\n",
    "numpy.mean(a, axis=None, dtype=None, out=None, keepdims=<no value>, *, where=<no value>)\n",
    "\n",
    "- a: The input array.\n",
    "- axis: The axis or axes along which the mean is computed. If None (default), the mean is calculated over all flattened array elements.\n",
    "- keepdims: If True, the reduced axis will retain a dimension of size 1 in the result."
   ]
  },
  {
   "cell_type": "code",
   "execution_count": 58,
   "id": "97fa9799-3ddc-4c94-b411-27ec648b5d17",
   "metadata": {},
   "outputs": [
    {
     "name": "stdout",
     "output_type": "stream",
     "text": [
      "Mean of 1D array: 30.0\n",
      "\n",
      "Mean of all elements in the matrix: 5.0\n",
      "\n",
      "Mean by column:\n",
      "[4. 5. 6.]\n",
      "\n",
      "Mean by row:\n",
      "[2. 5. 8.]\n",
      "\n",
      "Mean by column (with keepdims=True):\n",
      "[[4. 5. 6.]]\n",
      "\n"
     ]
    }
   ],
   "source": [
    "import numpy as np\n",
    "\n",
    "# 1D Array\n",
    "data_1d = np.array([10, 20, 30, 40, 50])\n",
    "mean_1d = np.mean(data_1d)\n",
    "print(f\"Mean of 1D array: {mean_1d}\\n\")\n",
    "\n",
    "# 2D Array (Matrix)\n",
    "data_2d = np.array([[1, 2, 3],\n",
    "                    [4, 5, 6],\n",
    "                    [7, 8, 9]])\n",
    "\n",
    "# Mean of all elements (flattened)\n",
    "mean_all = np.mean(data_2d)\n",
    "print(f\"Mean of all elements in the matrix: {mean_all}\\n\") \n",
    "\n",
    "# Mean by column (axis=0): calculation is performed \"down\" the columns\n",
    "mean_columns = np.mean(data_2d, axis=0)\n",
    "print(f\"Mean by column:\\n{mean_columns}\\n\") # Output: [4. 5. 6.] (mean of [1,4,7], [2,5,8], [3,6,9])\n",
    "\n",
    "# Mean by row (axis=1): calculation is performed \"across\" the rows\n",
    "mean_rows = np.mean(data_2d, axis=1)\n",
    "print(f\"Mean by row:\\n{mean_rows}\\n\")\n",
    "\n",
    "# Mean by column, keeping dimensions\n",
    "mean_columns_keepdims = np.mean(data_2d, axis=0, keepdims=True)\n",
    "print(f\"Mean by column (with keepdims=True):\\n{mean_columns_keepdims}\\n\")"
   ]
  },
  {
   "cell_type": "markdown",
   "id": "dcbafd75-4eb3-4660-b03d-95557cde8e43",
   "metadata": {},
   "source": [
    "The use of axis is crucial for meaningfully summarizing data in tables or matrices, whether for analyzing the mean of features (columns) or the mean of observations (rows).\n",
    "\n",
    "### 1.2. np.std(): Calculating the Standard Deviation\n",
    "The standard deviation is a measure of dispersion indicating the extent to which data values deviate from the mean. np.std() computes either the sample or population standard deviation, depending on the ddof (delta degrees of freedom) parameter.\n",
    "\n",
    "#### Basic Syntax:\n",
    "numpy.std(a, axis=None, dtype=None, out=None, ddof=0, keepdims=<no value>, *, where=<no value>)\n",
    "\n",
    "- a: The input array.\n",
    "- axis: The axis or axes along which the standard deviation is computed.\n",
    "- ddof: Delta Degrees of Freedom. The divisor used in the calculation is N - ddof, where N is the number of elements. By default, it is 0 (calculating the population standard deviation). For the sample standard deviation, ddof=1 should be used."
   ]
  },
  {
   "cell_type": "code",
   "execution_count": 60,
   "id": "6bf981ab-b515-43e3-aa26-dc4f814e3e88",
   "metadata": {},
   "outputs": [
    {
     "name": "stdout",
     "output_type": "stream",
     "text": [
      "Population Standard Deviation (1D): 1.41\n",
      "Sample Standard Deviation (1D): 1.58\n",
      "\n",
      "Standard Deviation of all elements in the matrix: 3.42\n",
      "\n",
      "Standard Deviation by row:\n",
      "[1.63299316 1.63299316]\n",
      "\n",
      "Standard Deviation by column:\n",
      "[3. 3. 3.]\n",
      "\n"
     ]
    }
   ],
   "source": [
    "# 1D Array\n",
    "data_1d = np.array([1, 2, 3, 4, 5])\n",
    "std_pop_1d = np.std(data_1d)\n",
    "std_sample_1d = np.std(data_1d, ddof=1)\n",
    "print(f\"Population Standard Deviation (1D): {std_pop_1d:.2f}\") # Output: 1.41\n",
    "print(f\"Sample Standard Deviation (1D): {std_sample_1d:.2f}\\n\") # Output: 1.58\n",
    "\n",
    "# 2D Array\n",
    "data_2d = np.array([[10, 12, 14],\n",
    "                    [16, 18, 20]])\n",
    "\n",
    "# Standard deviation of all elements\n",
    "std_all = np.std(data_2d)\n",
    "print(f\"Standard Deviation of all elements in the matrix: {std_all:.2f}\\n\") # Output: 3.74\n",
    "\n",
    "# Standard deviation by row (axis=1)\n",
    "std_rows = np.std(data_2d, axis=1)\n",
    "print(f\"Standard Deviation by row:\\n{std_rows}\\n\") # Output: [1.63 1.63]\n",
    "\n",
    "# Standard deviation by column (axis=0)\n",
    "std_columns = np.std(data_2d, axis=0)\n",
    "print(f\"Standard Deviation by column:\\n{std_columns}\\n\") # Output: [3.00 3.00 3.00]"
   ]
  },
  {
   "cell_type": "markdown",
   "id": "9570bf1d-f241-4cf4-a807-ff6c827ae536",
   "metadata": {},
   "source": [
    "np.mean and np.std are merely two of the many statistical functions offered by NumPy (e.g., np.sum, np.min, np.max, np.median, np.percentile). They form the basis for any exploratory data analysis."
   ]
  },
  {
   "cell_type": "markdown",
   "id": "d96a0003-56da-460a-b7ce-beb158d38dc5",
   "metadata": {},
   "source": [
    "## 2. Powerful Conditional Logic: np.where and Boolean Masks\n",
    "The ability to apply conditional logic to array elements is fundamental for data preprocessing and manipulating information based on specific criteria. NumPy offers highly efficient tools for this purpose, notably np.where() and the extensive use of boolean masks.\n",
    "\n",
    "### 2.1. np.where(): Element-wise Conditional Selection\n",
    "The np.where() function serves as a vectorized equivalent of the conditional if-else statement. It enables the creation of a new array by selecting elements from two input arrays based on a boolean condition.\n",
    "\n",
    "#### Basic Syntax:\n",
    "numpy.where(condition, x, y)\n",
    "\n",
    "- condition: A boolean array. Where True, the corresponding element from x is selected; where False, the element from y is selected.\n",
    "- x, y: Arrays or scalars."
   ]
  },
  {
   "cell_type": "code",
   "execution_count": 62,
   "id": "f4ed1765-404c-4101-b345-34aec0d891d6",
   "metadata": {},
   "outputs": [
    {
     "name": "stdout",
     "output_type": "stream",
     "text": [
      "Positive or zero data: [0 2 0 4 0]\n",
      "\n",
      "Student status: ['Approved' 'Approved' 'Failed' 'Approved' 'Failed']\n",
      "\n",
      "Result of comparison with where: [ 6 10  8 15 10]\n",
      "\n"
     ]
    }
   ],
   "source": [
    "# Replace negative values with zero\n",
    "data = np.array([-1, 2, -3, 4, -5])\n",
    "data_positive = np.where(data > 0, data, 0)\n",
    "print(f\"Positive or zero data: {data_positive}\\n\") \n",
    "\n",
    "# Classify elements based on a threshold\n",
    "scores = np.array([75, 88, 62, 91, 55])\n",
    "status = np.where(scores >= 70, 'Approved', 'Failed')\n",
    "print(f\"Student status: {status}\\n\")\n",
    "\n",
    "# `np.where` with multiple input arrays\n",
    "array_a = np.array([1, 10, 3, 15, 5])\n",
    "array_b = np.array([6, 7, 8, 9, 10])\n",
    "condition = array_a > array_b\n",
    "result = np.where(condition, array_a, array_b)\n",
    "print(f\"Result of comparison with where: {result}\\n\") # Output: [ 6 10  8 15 10]"
   ]
  },
  {
   "cell_type": "markdown",
   "id": "99191b1d-0284-4acc-b00d-244e93a0c6ea",
   "metadata": {},
   "source": [
    "When only the condition argument is provided, np.where() returns the indices of the elements where the condition is True. This functionality is useful for combining with advanced indexing."
   ]
  },
  {
   "cell_type": "code",
   "execution_count": 64,
   "id": "841c50e9-53a9-4615-944f-d503ca3f6326",
   "metadata": {},
   "outputs": [
    {
     "name": "stdout",
     "output_type": "stream",
     "text": [
      "Indices where elements are greater than zero: (array([1, 3], dtype=int64),)\n",
      "\n",
      "Values at selected indices: [2 4]\n",
      "\n"
     ]
    }
   ],
   "source": [
    "indices_greater_than_zero = np.where(data > 0)\n",
    "print(f\"Indices where elements are greater than zero: {indices_greater_than_zero}\\n\")\n",
    "\n",
    "print(f\"Values at selected indices: {data[indices_greater_than_zero]}\\n\") # Output: [2 4]"
   ]
  },
  {
   "cell_type": "markdown",
   "id": "a20d1653-5f43-4976-b4ce-aed44a5886ad",
   "metadata": {},
   "source": [
    "### 2.2. Boolean Masks: Powerful Filtering and Modification\n",
    "As briefly demonstrated on Day 1, boolean masks are arrays of type bool that possess the same shape as the array being filtered. They are a natural outcome of comparison operations between arrays and scalars, and their application as an indexing mechanism is both incredibly powerful and idiomatic within NumPy.\n",
    "\n",
    "#### Filtering Data with Boolean Masks:\n",
    "\n",
    "By passing a boolean mask to the indexing brackets of a NumPy array, only the elements corresponding to True in the mask are returned."
   ]
  },
  {
   "cell_type": "code",
   "execution_count": 66,
   "id": "a7f33f56-6d26-47c0-9afb-fa6d27033fc8",
   "metadata": {},
   "outputs": [
    {
     "name": "stdout",
     "output_type": "stream",
     "text": [
      "Mask for temperatures > 25: [False  True False  True False False]\n",
      "Temperatures above 25 degrees: [28 30]\n",
      "\n",
      "Mask for temperatures between 20 and 25: [ True False  True False False  True]\n",
      "Ideal temperatures: [25 22 23]\n",
      "\n"
     ]
    }
   ],
   "source": [
    "temperatures = np.array([25, 28, 22, 30, 19, 23])\n",
    "hot_mask = temperatures > 25\n",
    "print(f\"Mask for temperatures > 25: {hot_mask}\")\n",
    "print(f\"Temperatures above 25 degrees: {temperatures[hot_mask]}\\n\")\n",
    "\n",
    "# Combining multiple conditions with logical operators (& for AND, | for OR)\n",
    "ideal_mask = (temperatures >= 20) & (temperatures <= 25)\n",
    "print(f\"Mask for temperatures between 20 and 25: {ideal_mask}\")\n",
    "print(f\"Ideal temperatures: {temperatures[ideal_mask]}\\n\")"
   ]
  },
  {
   "cell_type": "markdown",
   "id": "cb3a383e-5e55-4773-8706-7ae9317bc4ff",
   "metadata": {},
   "source": [
    "#### Modifying Data with Boolean Masks:\n",
    "\n",
    "Boolean masks are not only useful for filtering; they also serve as an efficient means to modify elements within an array that satisfy a particular condition."
   ]
  },
  {
   "cell_type": "code",
   "execution_count": 70,
   "id": "18a71a2e-8b32-43e1-acdd-51c5862b769f",
   "metadata": {},
   "outputs": [
    {
     "name": "stdout",
     "output_type": "stream",
     "text": [
      "Prices after increase: [11.025  12.6     8.75   16.0125  9.9   ]\n",
      "\n",
      "Sales with values below 60 replaced by NaN: [100.  nan 120.  nan  80.]\n",
      "\n"
     ]
    }
   ],
   "source": [
    "prices = np.array([10.50, 12.00, 8.75, 15.25, 9.90])\n",
    "# Increase prices greater than 10 by 5%\n",
    "increase_mask = prices > 10\n",
    "prices[increase_mask] = prices[increase_mask] * 1.05\n",
    "print(f\"Prices after increase: {prices}\\n\")\n",
    "# Set values below a threshold to NaN (Not a Number)\n",
    "sales = np.array([100, 50, 120, 30, 80], dtype=np.float64) \n",
    "sales[sales < 60] = np.nan \n",
    "print(f\"Sales with values below 60 replaced by NaN: {sales}\\n\")"
   ]
  },
  {
   "cell_type": "markdown",
   "id": "ebc22783-1be6-4f91-9906-efdc692efdde",
   "metadata": {},
   "source": [
    "The application of boolean masks is a cornerstone of data manipulation in both NumPy and Pandas, enabling concise and efficient operations on subsets of data."
   ]
  },
  {
   "cell_type": "markdown",
   "id": "b980af0b-5f05-42ac-9434-2e824e6f7626",
   "metadata": {},
   "source": [
    "## 3. Reshaping and Combining Arrays: reshape, stack, and concatenate\n",
    "The flexibility of NumPy arrays extends beyond their creation and elementary manipulation. Frequently, it becomes necessary to alter the dimensions of an existing array or to combine multiple arrays into a single structure. The functions reshape, stack, and concatenate are the designated tools for these tasks.\n",
    "\n",
    "### 3.1. reshape(): Changing Array Dimensions\n",
    "The reshape() function allows for altering the shape of an array without modifying its underlying data. The total number of elements in the array must remain constant. A value of -1 can be employed in one of the dimensions to allow NumPy to automatically infer the size of that particular dimension.\n",
    "\n",
    "#### Basic Syntax:\n",
    "ndarray.reshape(shape, order='C') or numpy.reshape(a, newshape, order='C')\n",
    "\n",
    "- shape: A tuple of integers that defines the new dimensions of the array.\n",
    "- order: Specifies the order in which array elements should be read for insertion into the new array. 'C' (default) corresponds to C-like (row-major) order, while 'F' corresponds to Fortran-like (column-major) order."
   ]
  },
  {
   "cell_type": "code",
   "execution_count": 76,
   "id": "394b2b60-a552-4895-8237-c067e7ae2c85",
   "metadata": {},
   "outputs": [
    {
     "name": "stdout",
     "output_type": "stream",
     "text": [
      "1D Array:\n",
      "[1 2 3 4 5 6]\n",
      "2x3 Matrix (reshape):\n",
      "[[1 2 3]\n",
      " [4 5 6]]\n",
      "\n",
      "Matrix flattened to 1D:\n",
      "[1 2 3 4 5 6]\n",
      "\n",
      "3x2 Matrix (with dimension inference):\n",
      "[[1 2]\n",
      " [3 4]\n",
      " [5 6]]\n",
      "\n",
      "2x3x1 Tensor:\n",
      "[[[1]\n",
      "  [2]\n",
      "  [3]]\n",
      "\n",
      " [[4]\n",
      "  [5]\n",
      "  [6]]]\n",
      "\n"
     ]
    }
   ],
   "source": [
    "# 1D Array to 2D\n",
    "data_1d = np.array([1, 2, 3, 4, 5, 6])\n",
    "matrix_2x3 = data_1d.reshape((2, 3))\n",
    "print(f\"1D Array:\\n{data_1d}\")\n",
    "print(f\"2x3 Matrix (reshape):\\n{matrix_2x3}\\n\")\n",
    "\n",
    "# 2D Array to 1D\n",
    "flattened_vector = matrix_2x3.reshape(-1) # -1 calculates the size automatically\n",
    "print(f\"Matrix flattened to 1D:\\n{flattened_vector}\\n\") # Output: [1 2 3 4 5 6]\n",
    "\n",
    "# Using -1 to infer a dimension\n",
    "matrix_3x2 = data_1d.reshape((3, -1))\n",
    "print(f\"3x2 Matrix (with dimension inference):\\n{matrix_3x2}\\n\")\n",
    "\n",
    "\n",
    "# Reshaping to a 3D tensor\n",
    "tensor_2x3x1 = data_1d.reshape((2, 3, 1))\n",
    "print(f\"2x3x1 Tensor:\\n{tensor_2x3x1}\\n\")\n"
   ]
  },
  {
   "cell_type": "markdown",
   "id": "417f0803-8922-4634-a9ca-c6e28e243833",
   "metadata": {},
   "source": [
    "reshape typically performs a \"view\" operation, meaning it does not copy the data but rather creates a new view of the same data with an altered shape. This characteristic contributes to its high efficiency.\n",
    "\n",
    "### 3.2. np.stack(): Stacking Arrays\n",
    "The np.stack() function combines a sequence of arrays into a single array, thereby increasing the number of dimensions. This is particularly useful when multiple arrays share the same shape and require stacking along a newly introduced axis.\n",
    "\n",
    "#### Basic Syntax:\n",
    "numpy.stack(arrays, axis=0, out=None)\n",
    "\n",
    "- arrays: A sequence of input arrays. All arrays within the sequence must possess identical shapes.\n",
    "- axis: The axis along which the input arrays will be stacked. The resultant array will feature an additional dimension at this specified axis."
   ]
  },
  {
   "cell_type": "code",
   "execution_count": 79,
   "id": "ac683efb-9663-4320-8187-edb2a149c818",
   "metadata": {},
   "outputs": [
    {
     "name": "stdout",
     "output_type": "stream",
     "text": [
      "Stacked along axis 0:\n",
      "[[1 2 3]\n",
      " [4 5 6]\n",
      " [7 8 9]]\n",
      "\n",
      "Stacked along axis 1:\n",
      "[[1 4 7]\n",
      " [2 5 8]\n",
      " [3 6 9]]\n",
      "\n",
      "Stacked matrices (axis=0):\n",
      "[[[1 2]\n",
      "  [3 4]]\n",
      "\n",
      " [[5 6]\n",
      "  [7 8]]]\n",
      "\n"
     ]
    }
   ],
   "source": [
    "a = np.array([1, 2, 3])\n",
    "b = np.array([4, 5, 6])\n",
    "c = np.array([7, 8, 9])\n",
    "\n",
    "# Stacking along a new axis 0 (the default)\n",
    "stacked_axis0 = np.stack((a, b, c), axis=0)\n",
    "print(f\"Stacked along axis 0:\\n{stacked_axis0}\\n\")\n",
    "\n",
    "# Stacking along a new axis 1\n",
    "stacked_axis1 = np.stack((a, b, c), axis=1)\n",
    "print(f\"Stacked along axis 1:\\n{stacked_axis1}\\n\")\n",
    "\n",
    "# Example with 2D arrays\n",
    "matrix1 = np.array([[1, 2], [3, 4]])\n",
    "matrix2 = np.array([[5, 6], [7, 8]])\n",
    "\n",
    "stacked_matrices = np.stack((matrix1, matrix2), axis=0)\n",
    "print(f\"Stacked matrices (axis=0):\\n{stacked_matrices}\\n\")\n"
   ]
  },
  {
   "cell_type": "markdown",
   "id": "1c299432-5db6-41fd-8636-d1b8452e2ea9",
   "metadata": {},
   "source": [
    "np.stack finds particular utility in deep learning contexts for combining batches of data or for adding a \"channel\" dimension to images.\n",
    "\n",
    "### 3.3. np.concatenate(): Joining Arrays\n",
    "The np.concatenate() function joins a sequence of existing arrays along a specified axis. In contrast to np.stack(), np.concatenate() does not introduce a new dimension; instead, it merges arrays along an existing dimension. A crucial requirement is that arrays slated for concatenation must possess identical shapes across all dimensions, with the exception of the dimension along which the concatenation is being performed.\n",
    "\n",
    "#### Basic Syntax:\n",
    "numpy.concatenate((a1, a2, ...), axis=0, out=None)\n",
    "\n",
    "- arrays: A sequence (tuple or list) of input arrays.\n",
    "- axis: The axis along which the arrays will be concatenated."
   ]
  },
  {
   "cell_type": "code",
   "execution_count": 83,
   "id": "07f5de3e-2138-4ed6-a1be-de8c7d5ca059",
   "metadata": {},
   "outputs": [
    {
     "name": "stdout",
     "output_type": "stream",
     "text": [
      "Concatenated 1D arrays:\n",
      "[1 2 3 4 5 6]\n",
      "\n",
      "Concatenated by rows (axis=0):\n",
      "[[1 2]\n",
      " [3 4]\n",
      " [5 6]\n",
      " [7 8]]\n",
      "\n",
      "Concatenated by columns (axis=1):\n",
      "[[1 2 5 6]\n",
      " [3 4 7 8]]\n",
      "\n"
     ]
    }
   ],
   "source": [
    "arr1 = np.array([1, 2, 3])\n",
    "arr2 = np.array([4, 5, 6])\n",
    "\n",
    "# Concatenating 1D arrays (default is axis=0)\n",
    "concatenated_1d = np.concatenate((arr1, arr2))\n",
    "print(f\"Concatenated 1D arrays:\\n{concatenated_1d}\\n\")\n",
    "\n",
    "# Concatenating 2D arrays\n",
    "matrix1 = np.array([[1, 2],\n",
    "                    [3, 4]])\n",
    "matrix2 = np.array([[5, 6],\n",
    "                    [7, 8]])\n",
    "\n",
    "# Concatenating along axis 0 (rows)\n",
    "concatenated_rows = np.concatenate((matrix1, matrix2), axis=0)\n",
    "print(f\"Concatenated by rows (axis=0):\\n{concatenated_rows}\\n\")\n",
    "\n",
    "# Concatenating along axis 1 (columns)\n",
    "concatenated_columns = np.concatenate((matrix1, matrix2), axis=1)\n",
    "print(f\"Concatenated by columns (axis=1):\\n{concatenated_columns}\\n\")\n",
    "\n",
    "# Example with incompatible shapes (will raise an error)\n",
    "# arr_incompatible = np.array([[9]])\n",
    "# np.concatenate((matrix1, arr_incompatible), axis=0) # Error: all input arrays must have same number of dimensions"
   ]
  },
  {
   "cell_type": "markdown",
   "id": "54c5414c-a733-4bf9-973c-2e062ea2a97d",
   "metadata": {},
   "source": [
    "np.concatenate serves as a general replacement for more specific functions such as np.vstack (vertical stacking) and np.hstack (horizontal stacking), which act as convenient shortcuts for np.concatenate with axis=0 and axis=1, respectively, for 2D arrays."
   ]
  }
 ],
 "metadata": {
  "kernelspec": {
   "display_name": "Python 3 (ipykernel)",
   "language": "python",
   "name": "python3"
  },
  "language_info": {
   "codemirror_mode": {
    "name": "ipython",
    "version": 3
   },
   "file_extension": ".py",
   "mimetype": "text/x-python",
   "name": "python",
   "nbconvert_exporter": "python",
   "pygments_lexer": "ipython3",
   "version": "3.11.7"
  }
 },
 "nbformat": 4,
 "nbformat_minor": 5
}

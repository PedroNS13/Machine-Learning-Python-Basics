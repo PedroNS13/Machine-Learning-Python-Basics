{
 "cells": [
  {
   "cell_type": "markdown",
   "id": "f6c7cd41-f2ad-4afe-906c-c090c95c5728",
   "metadata": {},
   "source": [
    "# Mastering the Numpy Universe - An In-Depth Exploration of Essential Foundations Scientific Computing"
   ]
  },
  {
   "cell_type": "markdown",
   "id": "4b758f0c-2362-4d3e-9d92-9da641cbda05",
   "metadata": {},
   "source": [
    "## Introductuion: The Essence of Numpy in Modern Scientific Computing"
   ]
  },
  {
   "cell_type": "markdown",
   "id": "a4d00a1f-be29-4d2f-99f0-8d1df3fd3e62",
   "metadata": {},
   "source": [
    "In a landscape where data analysis and computational modeling have become cornerstones of research and industry, the efficiency and capacity to manipulate large volumes of numerical information are crucial. It is within this context that NumPy (Numerical Python) emerges as a fundamental library, providing the essential data structures and tools for scientific computing in Python. Its architecture, optimized for high-performance numerical operations, makes it the foundation upon which countless other data science libraries, such as SciPy, Pandas, and scikit-learn, are built.\n",
    "\n",
    "This article inaugurates a detailed journey through the NumPy universe, dedicating our first day to understanding and mastering its foundations. We will delve deeply into the creation and properties of NumPy's central object, the ndarray (N-dimensional array), explore the nuances of inspecting its crucial attributes (shape and dtype), and unravel the power and flexibility of indexing to access and manipulate data. Furthermore, we will detail the elegance and efficiency of vectorized operations, a paradigm that transforms the way we approach numerical calculations in Python. Prepare for a complete immersion that will solidify your understanding of NumPy and empower you to face complex computational challenges with confidence and efficiency."
   ]
  },
  {
   "cell_type": "markdown",
   "id": "61d9fdf7-147c-4e4e-9518-b0a32be4b160",
   "metadata": {},
   "source": [
    "## 1. The Fundamental Building Block: Unveiling np.array"
   ]
  },
  {
   "cell_type": "markdown",
   "id": "c84c674e-87b3-47bb-abf5-9529f249ea4a",
   "metadata": {},
   "source": [
    "At the core of NumPy's functionality lies the ndarray object. Its fundamental distinction from traditional Python lists lies in its homogeneity: every element within an ndarray must belong to the same data type. This restriction, at first glance, might seem limiting, but it is precisely this characteristic that enables the low-level optimizations that give NumPy its remarkable speed and memory efficiency, especially when dealing with extensive datasets. The ability to perform operations on large blocks of data in an optimized manner makes NumPy indispensable for tasks that demand high computational performance."
   ]
  },
  {
   "cell_type": "markdown",
   "id": "08b3c439-b167-401e-99a5-799d364d105f",
   "metadata": {},
   "source": [
    "To import the NumPy module in Python, you typically use the following standard convention:"
   ]
  },
  {
   "cell_type": "code",
   "execution_count": 32,
   "id": "6d3c2921-a749-4d1f-9944-0b14c2bb9c57",
   "metadata": {},
   "outputs": [],
   "source": [
    "import numpy as np"
   ]
  },
  {
   "cell_type": "markdown",
   "id": "69b0dc92-3c5d-403d-aba2-9917651149ee",
   "metadata": {},
   "source": [
    "Here, import numpy brings the entire NumPy library into your current Python environment. The as np part is a common alias. It allows you to refer to NumPy functions and objects using the shorter prefix np instead of typing out numpy every time. This makes your code more concise and easier to read. For example, instead of writing numpy.array([1, 2, 3]), you can simply write np.array([1, 2, 3]). This aliasing convention is widely adopted in the Python scientific computing community."
   ]
  },
  {
   "cell_type": "markdown",
   "id": "eb4fad03-910b-4a23-80b0-cf49f8fb635e",
   "metadata": {},
   "source": [
    "### The Art of Creation: Instantiating ndarrays with np.array()\n",
    "The gateway to the world of NumPy arrays is the np.array() function. This function acts as a flexible constructor, capable of converting a variety of iterable Python objects, such as lists and tuples, into NumPy arrays.\n",
    "### Creating One-Dimensional Arrays (Vectors):\n",
    "A one-dimensional array, or vector, represents a linear sequence of elements. Its creation from a Python list is straightforward:"
   ]
  },
  {
   "cell_type": "code",
   "execution_count": 34,
   "id": "4c7f9b35-2c63-4133-a909-61e2e369f501",
   "metadata": {},
   "outputs": [
    {
     "name": "stdout",
     "output_type": "stream",
     "text": [
      "Vector:\n",
      "[1 2 3 4 5]\n",
      "Vector type: <class 'numpy.ndarray'>\n",
      "\n",
      "Heterogeneous vector (after coercion):\n",
      "['1' '2' 'a' '4']\n",
      "Heterogeneous vector type: <U11\n",
      "\n"
     ]
    }
   ],
   "source": [
    "# Creating a 1D array (vector) from a list\n",
    "vector = np.array([1, 2, 3, 4, 5])\n",
    "print(f\"Vector:\\n{vector}\")\n",
    "print(f\"Vector type: {type(vector)}\\n\")\n",
    "\n",
    "# Demonstration of homogeneity - attempting to insert a different type\n",
    "# will result in coercion (in this case, to string)\n",
    "heterogeneous_vector = np.array([1, 2, 'a', 4])\n",
    "print(f\"Heterogeneous vector (after coercion):\\n{heterogeneous_vector}\")\n",
    "print(f\"Heterogeneous vector type: {heterogeneous_vector.dtype}\\n\")"
   ]
  },
  {
   "cell_type": "markdown",
   "id": "6e9f391c-0c70-4b1c-ae11-3c98cd22e2d3",
   "metadata": {},
   "source": [
    "### Creating Two-Dimensional Arrays (Matrices):\n",
    "\n",
    "Two-dimensional arrays, or matrices, organize data into rows and columns. They are created from a list of lists, where each inner list represents a row of the matrix."
   ]
  },
  {
   "cell_type": "code",
   "execution_count": 36,
   "id": "deace957-bfae-4b47-a8a6-1b6c63d01208",
   "metadata": {},
   "outputs": [
    {
     "name": "stdout",
     "output_type": "stream",
     "text": [
      "Matrix:\n",
      "[[1 2 3]\n",
      " [4 5 6]]\n",
      "Matrix shape: (2, 3)\n",
      "\n"
     ]
    }
   ],
   "source": [
    "# Creating a 2D array (matrix) from a list of lists\n",
    "matrix = np.array([[1, 2, 3], [4, 5, 6]])\n",
    "print(f\"Matrix:\\n{matrix}\")\n",
    "print(f\"Matrix shape: {matrix.shape}\\n\") # (2, 3) - 2 rows, 3 columns"
   ]
  },
  {
   "cell_type": "markdown",
   "id": "b5a421fd-f734-45cb-b2f8-3571c8805051",
   "metadata": {},
   "source": [
    "### Controlling Data Type: The dtype Argument\n",
    "\n",
    "Although NumPy is capable of inferring the most suitable data type for the elements of an array, explicit control through the dtype argument offers greater precision and optimization. Specifying the correct dtype can be crucial for minimizing memory consumption and ensuring the accuracy of calculations, especially when dealing with large datasets or when numerical precision is fundamental."
   ]
  },
  {
   "cell_type": "code",
   "execution_count": 38,
   "id": "94a6b4fa-88d3-4c07-bbc5-27634d0ce716",
   "metadata": {},
   "outputs": [
    {
     "name": "stdout",
     "output_type": "stream",
     "text": [
      "Float array (64 bits):\n",
      "[1.  2.5 3.7]\n",
      "Float array (64 bits) type: float64\n",
      "\n",
      "Integer array (32 bits):\n",
      "[10 20 30]\n",
      "Integer array (32 bits) type: int32\n",
      "\n"
     ]
    }
   ],
   "source": [
    "# Creating an array of double-precision floats (64 bits)\n",
    "float64_array = np.array([1.0, 2.5, 3.7], dtype=np.float64)\n",
    "print(f\"Float array (64 bits):\\n{float64_array}\")\n",
    "print(f\"Float array (64 bits) type: {float64_array.dtype}\\n\")\n",
    "\n",
    "# Creating an array of 32-bit integers\n",
    "int32_array = np.array([10, 20, 30], dtype=np.int32)\n",
    "print(f\"Integer array (32 bits):\\n{int32_array}\")\n",
    "print(f\"Integer array (32 bits) type: {int32_array.dtype}\\n\")\n",
    "\n",
    "# Other common dtypes: np.int8, np.int16, np.uint8, np.bool_, np.complex128, np.str_"
   ]
  },
  {
   "cell_type": "markdown",
   "id": "d01ade6b-72e9-42bd-9627-ecbd5f154c91",
   "metadata": {},
   "source": [
    "The conscious choice of dtype is an essential practice for the development of efficient and robust scientific computing applications."
   ]
  },
  {
   "cell_type": "markdown",
   "id": "34e78d0e-ccc1-4b2f-aa6c-5d8eb5d36ade",
   "metadata": {},
   "source": [
    "## 2. X-Raying the ndarray: Anatomy with shape and dtype\n",
    "\n",
    "After creating a NumPy array, the ability to inspect its structure and the type of data it contains is fundamental to ensure that subsequent operations are performed correctly and with the expected performance. The shape and dtype attributes provide this essential insight.\n",
    "\n",
    "### Unveiling the Dimensions: The shape Attribute\n",
    "\n",
    "The shape attribute of an ndarray returns a tuple of integers that describes the dimensionality of the array. Each element of the tuple corresponds to the size of a dimension. For a vector (1D array), the tuple will contain a single element, representing the number of elements in the vector. For a matrix (2D array), the tuple will have two elements: the number of rows followed by the number of columns. For arrays of higher dimensions (tensors), the tuple will contain one element for each dimension."
   ]
  },
  {
   "cell_type": "code",
   "execution_count": 40,
   "id": "7d384dfe-9650-4abd-bd69-650d11cc1d0b",
   "metadata": {},
   "outputs": [
    {
     "name": "stdout",
     "output_type": "stream",
     "text": [
      "Vector shape: (4,)\n",
      "\n",
      "Matrix shape: (3, 2)\n",
      "\n",
      "3D tensor shape: (2, 2, 2)\n",
      "\n"
     ]
    }
   ],
   "source": [
    "vector = np.array([10, 20, 30, 40])\n",
    "print(f\"Vector shape: {vector.shape}\\n\")  # Output: (4,) - indicates a vector with 4 elements\n",
    "\n",
    "matrix = np.array([[1, 2], [3, 4], [5, 6]])\n",
    "print(f\"Matrix shape: {matrix.shape}\\n\")  # Output: (3, 2) - indicates a matrix with 3 rows and 2 columns\n",
    "\n",
    "tensor_3d = np.array([[[1, 2], [3, 4]], [[5, 6], [7, 8]]])\n",
    "print(f\"3D tensor shape: {tensor_3d.shape}\\n\")  # Output: (2, 2, 2) - a tensor with 2 \"blocks\" of 2x2 matrices"
   ]
  },
  {
   "cell_type": "markdown",
   "id": "78527237-23c5-4ef5-b9f4-934c1ac765cb",
   "metadata": {},
   "source": [
    "The correct interpretation of the shape is crucial for performing operations that depend on the data structure, such as matrix multiplication, transpositions, and array reshaping.\n",
    "\n",
    "### Identifying the Nature of Data: The dtype Attribute in Detail\n",
    "\n",
    "The dtype attribute of an ndarray reveals the data type of the elements stored in the array. As mentioned earlier, all elements of the same NumPy array share the same dtype. NumPy offers a rich variety of numerical, boolean, string, and other data types."
   ]
  },
  {
   "cell_type": "code",
   "execution_count": 42,
   "id": "f80ac034-6136-4e28-86e1-8be981a02048",
   "metadata": {},
   "outputs": [
    {
     "name": "stdout",
     "output_type": "stream",
     "text": [
      "Integer array dtype: int32\n",
      "\n",
      "Boolean array dtype: bool\n",
      "\n",
      "String array dtype: <U6\n",
      "\n",
      "Complex array dtype: complex128\n",
      "\n"
     ]
    }
   ],
   "source": [
    "integer_array = np.array([1, 2, 3])\n",
    "print(f\"Integer array dtype: {integer_array.dtype}\\n\")  # Output: int64 (integer bit size, may vary)\n",
    "\n",
    "boolean_array = np.array([True, False, True])\n",
    "print(f\"Boolean array dtype: {boolean_array.dtype}\\n\")  # Output: bool\n",
    "\n",
    "string_array = np.array(['python', 'numpy', 'pandas'])\n",
    "print(f\"String array dtype: {string_array.dtype}\\n\")  # Output: <U6 (Unicode string with maximum length 6)\n",
    "\n",
    "complex_array = np.array([1 + 2j, 3 - 4j])\n",
    "print(f\"Complex array dtype: {complex_array.dtype}\\n\") # Output: complex128"
   ]
  },
  {
   "cell_type": "markdown",
   "id": "16f768bc-898f-4ee0-936e-444c413337d4",
   "metadata": {},
   "source": [
    "Understanding the dtype is vital for ensuring the accuracy of calculations and for optimizing memory usage. For example, if you know your data consists only of small positive integers, using a dtype like np.uint8 can significantly save memory compared to the default np.int64.\n",
    "## 3. Navigating the Data: The Art of Advanced Indexing in NumPy Arrays\n",
    "Indexing in NumPy arrays transcends the simple selection of individual elements, offering powerful mechanisms to access and modify complex subsets of data with elegance and efficiency. Understanding the different forms of indexing is essential for manipulating data effectively.\n",
    "### Basic Scalar Indexing:\n",
    "The most fundamental form of indexing involves selecting a single element using its index. In one-dimensional arrays, the syntax is identical to Python lists. In multidimensional arrays, an index for each dimension is provided, separated by commas."
   ]
  },
  {
   "cell_type": "code",
   "execution_count": 44,
   "id": "61154a79-6f37-4f10-84d4-3f4c11ef4cc3",
   "metadata": {},
   "outputs": [
    {
     "name": "stdout",
     "output_type": "stream",
     "text": [
      "Element at index 0: 10\n",
      "Element at index 3: 40\n",
      "Element at row 0, column 0: 1\n",
      "Element at row 1, column 2: 6\n"
     ]
    }
   ],
   "source": [
    "vector = np.array([10, 20, 30, 40, 50])\n",
    "print(f\"Element at index 0: {vector[0]}\")  # Output: 10 (positive indexing)\n",
    "print(f\"Element at index 3: {vector[-2]}\")  # Output: 40 (negative indexing)\n",
    "\n",
    "matrix = np.array([[1, 2, 3], [4, 5, 6], [7, 8, 9]])\n",
    "print(f\"Element at row 0, column 0: {matrix[0, 0]}\")  # Output: 1\n",
    "print(f\"Element at row 1, column 2: {matrix[1, 2]}\")  # Output: 6"
   ]
  },
  {
   "cell_type": "markdown",
   "id": "f7b241fd-97bb-427c-bd21-e33ba13903b4",
   "metadata": {},
   "source": [
    "### The Versatility of Slicing:\n",
    "\n",
    "Slicing allows you to extract contiguous subsets of an array by specifying a range of indices for each dimension. The general syntax for a slice is start:stop:step. If start is not specified, it defaults to the beginning of the dimension. If stop is not specified, it defaults to the end of the dimension. step specifies the increment between the selected indices (the default is 1)."
   ]
  },
  {
   "cell_type": "code",
   "execution_count": 46,
   "id": "72ce9832-183b-4369-b4f2-59cb2338dfdd",
   "metadata": {},
   "outputs": [
    {
     "name": "stdout",
     "output_type": "stream",
     "text": [
      "Elements from index 2 to 5 (exclusive): [2 3 4]\n",
      "Elements from the beginning up to index 7 (exclusive): [0 1 2 3 4 5 6]\n",
      "Elements from index 3 to the end: [3 4 5 6 7 8 9]\n",
      "Every other element in reverse: [9 7 5 3 1]\n",
      "First row of the matrix: [10 20 30]\n",
      "Second column of the matrix: [20 50 80]\n",
      "2x2 submatrix from the bottom right corner:\n",
      "[[50 60]\n",
      " [80 90]]\n"
     ]
    }
   ],
   "source": [
    "vector = np.array([0, 1, 2, 3, 4, 5, 6, 7, 8, 9])\n",
    "print(f\"Elements from index 2 to 5 (exclusive): {vector[2:5]}\")    # Output: [2 3 4]\n",
    "print(f\"Elements from the beginning up to index 7 (exclusive): {vector[:7]}\")   # Output: [0 1 2 3 4 5 6]\n",
    "print(f\"Elements from index 3 to the end: {vector[3:]}\")    # Output: [3 4 5 6 7 8 9]\n",
    "print(f\"Every other element in reverse: {vector[::-2]}\")   # Output: [9 7 5 3 1] (negative step for reversing)\n",
    "\n",
    "matrix = np.array([[10, 20, 30], [40, 50, 60], [70, 80, 90]])\n",
    "print(f\"First row of the matrix: {matrix[0, :]}\")      # Output: [10 20 30] (':' selects all elements in the dimension)\n",
    "print(f\"Second column of the matrix: {matrix[:, 1]}\")      # Output: [20 50 80]\n",
    "print(f\"2x2 submatrix from the bottom right corner:\\n{matrix[1:, 1:]}\")# Output:# [[50 60]#  [80 90]]"
   ]
  },
  {
   "cell_type": "markdown",
   "id": "79e160cc-523a-47aa-a807-cf4929c27904",
   "metadata": {},
   "source": [
    "Slicing returns a view of the original array, which means that any modification to the slice will affect the original array (unless an explicit copy is created with .copy()). This characteristic can be both an advantage (for efficient manipulations) and a source of errors if not understood.\n",
    "\n",
    "### Integer Array Indexing (Fancy Indexing):\n",
    "\n",
    "Integer array indexing allows you to select elements at arbitrary positions within an array. The index arrays specify which indices for each dimension should be selected."
   ]
  },
  {
   "cell_type": "code",
   "execution_count": 49,
   "id": "500a1c95-55da-4183-ad32-d3e43f0c5ac4",
   "metadata": {},
   "outputs": [
    {
     "name": "stdout",
     "output_type": "stream",
     "text": [
      "Elements selected with index array: [10 30 50]\n",
      "Selected elements in the matrix: [2 7]\n"
     ]
    }
   ],
   "source": [
    "vector = np.array([10, 20, 30, 40, 50])\n",
    "indices = np.array([0, 2, 4])\n",
    "selected_elements = vector[indices] # Or vector[[0, 2, 4]]\n",
    "print(f\"Elements selected with index array: {selected_elements}\") # Output: [10 30 50]\n",
    "\n",
    "matrix = np.array([[1, 2, 3], [4, 5, 6], [7, 8, 9]])\n",
    "row_indices = np.array([0, 2])\n",
    "col_indices = np.array([1, 0])\n",
    "selected_matrix_elements = matrix[row_indices, col_indices] # Selects (row 0, col 1) and (row 2, col 0)\n",
    "print(f\"Selected elements in the matrix: {selected_matrix_elements}\") # Output: [2 7]"
   ]
  },
  {
   "cell_type": "markdown",
   "id": "9d6dc079-5d23-46a2-bb6b-68c4f1d318a2",
   "metadata": {},
   "source": [
    "It's important to note that when multiple index arrays are used to index a multidimensional array, the result is a 1D array where each element corresponds to the element from the original array at the coordinates specified by the corresponding index arrays.\n",
    "\n",
    "### Boolean Indexing (Masking):\n",
    "\n",
    "Boolean indexing is a powerful technique for selecting elements from an array based on a condition. A boolean mask (an array of True and False values with the same shape as the original array) is used to indicate which elements should be selected. Only the elements corresponding to True in the mask are included in the result."
   ]
  },
  {
   "cell_type": "code",
   "execution_count": 52,
   "id": "4b57ed72-30c5-44c1-b197-4ea02f2fe28a",
   "metadata": {},
   "outputs": [
    {
     "name": "stdout",
     "output_type": "stream",
     "text": [
      "Boolean mask: [ True  True False  True False]\n",
      "Filtered elements: [15 20 25]\n",
      "Boolean mask for even numbers:\n",
      "[[False  True False]\n",
      " [ True False  True]\n",
      " [False  True False]]\n",
      "Even numbers from the matrix: [2 4 6 8]\n"
     ]
    }
   ],
   "source": [
    "array = np.array([15, 20, 5, 25, 10])\n",
    "mask = array > 12\n",
    "print(f\"Boolean mask: {mask}\") # Output: [ True  True False  True False]\n",
    "filtered_elements = array[mask]\n",
    "print(f\"Filtered elements: {filtered_elements}\") # Output: [15 20 25]\n",
    "\n",
    "matrix = np.array([[1, 2, 3], [4, 5, 6], [7, 8, 9]])\n",
    "mask_matrix = matrix % 2 == 0 # Create a mask where elements are even\n",
    "print(f\"Boolean mask for even numbers:\\n{mask_matrix}\")\n",
    "# Output:\n",
    "# [[False  True False]\n",
    "#  [ True False  True]\n",
    "#  [False  True False]]\n",
    "even_numbers = matrix[mask_matrix]\n",
    "print(f\"Even numbers from the matrix: {even_numbers}\") # Output: [2 4 6 8]"
   ]
  },
  {
   "cell_type": "markdown",
   "id": "87495405-cc3f-45f6-8227-1a687bd5caad",
   "metadata": {},
   "source": [
    "Boolean indexing is incredibly useful for filtering data based on specific criteria and performing conditional operations on array elements.\n",
    "\n",
    "## 4. The Power of Vectorized Operations: Unleashing NumPy's Efficiency\n",
    "\n",
    "One of NumPy's most significant advantages over standard Python lists is its ability to perform vectorized operations. Instead of looping through individual elements of an array, vectorized operations apply an operation element-wise across the entire array (or between arrays) in a highly optimized manner. This leads to code that is not only more concise and readable but also significantly faster, especially for large datasets.\n",
    "\n",
    "### Element-wise Operations:\n",
    "\n",
    "Basic arithmetic operations (+, -, *, /, **) and comparison operators (==, !=, &lt;, >, &lt;=, >=) can be directly applied to NumPy arrays. These operations are performed element-wise, returning a new array with the results."
   ]
  },
  {
   "cell_type": "code",
   "execution_count": null,
   "id": "d6624e06-7854-4fe7-87ca-8dbcbbe513ba",
   "metadata": {},
   "outputs": [],
   "source": [
    "array1 = np.array([1, 2, 3, 4])\n",
    "array2 = np.array([5, 6, 7, 8])\n",
    "\n",
    "addition = array1 + array2\n",
    "print(f\"Element-wise addition: {addition}\") # Output: [ 6  8 10 12]\n",
    "\n",
    "multiplication = array1 * 2\n",
    "print(f\"Scalar multiplication: {multiplication}\") # Output: [2 4 6 8]\n",
    "\n",
    "comparison = array1 > 2\n",
    "print(f\"Element-wise comparison: {comparison}\") # Output: [False False  True  True]"
   ]
  },
  {
   "cell_type": "markdown",
   "id": "7e840e13-ece7-45a8-b9a7-9ae8f2ab90d7",
   "metadata": {},
   "source": [
    "### Universal Functions (ufuncs):\n",
    "\n",
    "NumPy provides a rich set of universal functions (ufuncs) that perform element-wise operations on ndarrays. These functions are implemented in highly optimized C code, making them extremely fast. Examples include mathematical functions (np.sin(), np.cos(), np.sqrt(), np.exp()), trigonometric functions, bitwise functions, and more."
   ]
  },
  {
   "cell_type": "code",
   "execution_count": 56,
   "id": "560fb1f5-9da0-4214-a8a9-6ffe1cef66e2",
   "metadata": {},
   "outputs": [
    {
     "name": "stdout",
     "output_type": "stream",
     "text": [
      "Sine of angles: [0.0000000e+00 1.0000000e+00 1.2246468e-16]\n",
      "Square roots: [1. 2. 3. 4.]\n"
     ]
    }
   ],
   "source": [
    "angles = np.array([0, np.pi/2, np.pi])\n",
    "sine_values = np.sin(angles)\n",
    "print(f\"Sine of angles: {sine_values}\") # Output: [0.         1.         1.2246468e-16] (approximately [0, 1, 0])\n",
    "\n",
    "numbers = np.array([1, 4, 9, 16])\n",
    "square_roots = np.sqrt(numbers)\n",
    "print(f\"Square roots: {square_roots}\") # Output: [1. 2. 3. 4.]"
   ]
  },
  {
   "cell_type": "markdown",
   "id": "03ee4462-da9b-4a98-9af3-41836923ad43",
   "metadata": {},
   "source": [
    "### Broadcasting: Operations on Arrays with Different Shapes\n",
    "\n",
    "NumPy's broadcasting mechanism allows you to perform arithmetic operations on arrays with different shapes under certain conditions. NumPy automatically \"stretches\" the smaller array to match the shape of the larger array, enabling element-wise operations. Broadcasting rules are important to understand for efficient array manipulation."
   ]
  },
  {
   "cell_type": "code",
   "execution_count": 59,
   "id": "79818063-5f67-42e3-9c04-8eda1ba52e95",
   "metadata": {},
   "outputs": [
    {
     "ename": "SyntaxError",
     "evalue": "incomplete input (3595578341.py, line 11)",
     "output_type": "error",
     "traceback": [
      "\u001b[1;36m  Cell \u001b[1;32mIn[59], line 11\u001b[1;36m\u001b[0m\n\u001b[1;33m    print(f\u001b[0m\n\u001b[1;37m           ^\u001b[0m\n\u001b[1;31mSyntaxError\u001b[0m\u001b[1;31m:\u001b[0m incomplete input\n"
     ]
    }
   ],
   "source": [
    "array_a = np.array([1, 2, 3]) # shape (3,)\n",
    "scalar = 10\n",
    "\n",
    "result = array_a + scalar # Scalar is broadcasted to [10, 10, 10]\n",
    "print(f\"Broadcasting with a scalar: {result}\") # Output: [11 12 13]\n",
    "\n",
    "array_b = np.array([[1], [2], [3]]) # shape (3, 1)\n",
    "array_c = np.array([4, 5, 6])   # shape (3,)\n",
    "\n",
    "result_broadcast = array_b + array_c # array_c is broadcasted to [[4, 5, 6], [4, 5, 6], [4, 5, 6]]\n",
    "print(f'"
   ]
  },
  {
   "cell_type": "code",
   "execution_count": null,
   "id": "e0793b50-ee27-4161-bdb4-f1b14c070fab",
   "metadata": {},
   "outputs": [],
   "source": []
  }
 ],
 "metadata": {
  "kernelspec": {
   "display_name": "Python 3 (ipykernel)",
   "language": "python",
   "name": "python3"
  },
  "language_info": {
   "codemirror_mode": {
    "name": "ipython",
    "version": 3
   },
   "file_extension": ".py",
   "mimetype": "text/x-python",
   "name": "python",
   "nbconvert_exporter": "python",
   "pygments_lexer": "ipython3",
   "version": "3.11.7"
  }
 },
 "nbformat": 4,
 "nbformat_minor": 5
}
